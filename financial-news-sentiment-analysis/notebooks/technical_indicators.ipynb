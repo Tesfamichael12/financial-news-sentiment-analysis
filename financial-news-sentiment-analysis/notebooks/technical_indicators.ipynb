{
 "cells": [
  {
   "cell_type": "code",
   "execution_count": null,
   "metadata": {},
   "outputs": [],
   "source": [
    "# Import necessary libraries\n",
    "import pandas as pd\n",
    "import matplotlib.pyplot as plt\n",
    "import seaborn as sns\n",
    "from scriptsnotebook.technical_indicators import TechnicalIndicators\n",
    "\n",
    "# Load your stock data (make sure the file path is correct)\n",
    "stock_df = pd.read_csv('Data/yfinance_data/AAPL_historical_data.csv')\n"
   ]
  },
  {
   "cell_type": "code",
   "execution_count": null,
   "metadata": {},
   "outputs": [],
   "source": [
    "# Instantiate the TechnicalIndicators class\n",
    "tech_indicators = TechnicalIndicators(stock_df)\n",
    "\n",
    "# Calculate indicators\n",
    "stock_df_with_indicators = tech_indicators.calculate_indicators()\n",
    "\n",
    "# Display the DataFrame with new indicators\n",
    "print(stock_df_with_indicators.head())\n",
    "\n",
    "# Plot the indicators\n",
    "tech_indicators.plot_indicators()\n"
   ]
  }
 ],
 "metadata": {
  "language_info": {
   "name": "python"
  }
 },
 "nbformat": 4,
 "nbformat_minor": 2
}
