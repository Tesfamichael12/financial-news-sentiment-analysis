{
 "cells": [
  {
   "cell_type": "code",
   "execution_count": null,
   "metadata": {},
   "outputs": [],
   "source": [
    "# Import necessary libraries\n",
    "import pandas as pd\n",
    "import matplotlib.pyplot as plt\n",
    "from textblob import TextBlob\n",
    "from scriptsnotebook.sentiment_analysis import SentimentAnalysis\n",
    "\n",
    "# Load your news data (make sure the file path is correct)\n",
    "news_df = pd.read_csv('Data/your_news_data.csv')\n"
   ]
  },
  {
   "cell_type": "code",
   "execution_count": null,
   "metadata": {},
   "outputs": [],
   "source": [
    "# Instantiate the SentimentAnalysis class\n",
    "sentiment_analysis = SentimentAnalysis(news_df)\n",
    "\n",
    "# Analyze sentiment\n",
    "news_df_with_sentiment = sentiment_analysis.analyze_sentiment()\n",
    "\n",
    "# Display the DataFrame with sentiment scores\n",
    "print(news_df_with_sentiment.head())\n",
    "\n",
    "# Plot the sentiment distribution\n",
    "sentiment_analysis.plot_sentiment_distribution()"
   ]
  }
 ],
 "metadata": {
  "language_info": {
   "name": "python"
  }
 },
 "nbformat": 4,
 "nbformat_minor": 2
}
