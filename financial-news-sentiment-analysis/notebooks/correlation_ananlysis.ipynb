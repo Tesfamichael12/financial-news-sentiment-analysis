{
 "cells": [
  {
   "cell_type": "code",
   "execution_count": null,
   "metadata": {},
   "outputs": [],
   "source": [
    "# Import necessary libraries\n",
    "import pandas as pd\n",
    "from scriptsnotebook.correlation_analysis import CorrelationAnalysis\n",
    "\n",
    "\n",
    "news_df = pd.read_csv('Data/raw_analyst_ratings.csv')\n",
    "stock_df = pd.read_csv('Data/yfinance_data/AAPL_historical_data.csv')\n"
   ]
  },
  {
   "cell_type": "code",
   "execution_count": null,
   "metadata": {},
   "outputs": [],
   "source": [
    "# Instantiate the CorrelationAnalysis class\n",
    "correlation_analysis = CorrelationAnalysis(news_df, stock_df)\n",
    "\n",
    "# Calculate and print the correlation\n",
    "correlation = correlation_analysis.calculate_correlation()\n",
    "print(f\"Calculated Correlation: {correlation}\")\n"
   ]
  }
 ],
 "metadata": {
  "language_info": {
   "name": "python"
  }
 },
 "nbformat": 4,
 "nbformat_minor": 2
}
