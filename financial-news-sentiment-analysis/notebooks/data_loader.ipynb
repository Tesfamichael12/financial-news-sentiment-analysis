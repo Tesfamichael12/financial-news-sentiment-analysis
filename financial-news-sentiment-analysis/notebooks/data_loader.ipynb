{
 "cells": [
  {
   "cell_type": "code",
   "execution_count": null,
   "metadata": {},
   "outputs": [],
   "source": [
    "# notebooks/analysis.ipynb\n",
    "\n",
    "# Import necessary modules and classes\n",
    "import sys\n",
    "import os\n",
    "\n",
    "# Add the scripts folder to the Python path\n",
    "sys.path.append(os.path.join(os.getcwd(), '../scripts'))\n",
    "\n",
    "# Import the DataLoader class\n",
    "from data_loader import DataLoader\n",
    "\n",
    "# Create an instance of DataLoader\n",
    "data_loader = DataLoader()\n",
    "\n",
    "# Load news data\n",
    "news_df = data_loader.load_news_data()\n",
    "print(\"News Data:\")\n",
    "print(news_df.head())\n",
    "\n",
    "# Load all stock data\n",
    "all_stock_data = data_loader.load_all_stock_data()\n",
    "\n",
    "# Example: Access AAPL data and display the first few rows\n",
    "if 'AAPL' in all_stock_data:\n",
    "    print(\"\\nAAPL Stock Data:\")\n",
    "    print(all_stock_data['AAPL'].head())\n"
   ]
  }
 ],
 "metadata": {
  "language_info": {
   "name": "python"
  }
 },
 "nbformat": 4,
 "nbformat_minor": 2
}
